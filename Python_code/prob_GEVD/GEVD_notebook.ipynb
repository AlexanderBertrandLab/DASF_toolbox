{
 "cells": [
  {
   "cell_type": "markdown",
   "source": [
    "## Generalized Eigenvalue Decomposition"
   ],
   "metadata": {
    "collapsed": false
   }
  },
  {
   "cell_type": "markdown",
   "source": [
    "We want to solve the following Generalized Eigenvalue Decomposition (GEVD) problem:\n",
    "\n",
    "$P: \\text{max}_X\\; \\mathbb{E}[||X^T\\mathbf{y}(t)||^2]$\n",
    "$\\text{s.t. } \\mathbb{E}[X^T\\mathbf{v}(t)\\mathbf{v}^T(t)X]=I,$\n",
    "\n",
    "in a distributed setting using the distributed adaptive signal fusion (DASF) framework."
   ],
   "metadata": {
    "collapsed": false
   }
  },
  {
   "cell_type": "code",
   "execution_count": 1,
   "outputs": [],
   "source": [
    "import numpy as np\n",
    "import sys\n",
    "import matplotlib as mpl\n",
    "import matplotlib.pyplot as plt\n",
    "import networkx as nx\n",
    "sys.path.append('../dasf_toolbox/')\n",
    "import gevd_functions as gevd\n",
    "from dasf_toolbox import dasf\n",
    "from dasf_toolbox import dasf_block\n",
    "\n",
    "rng = np.random.default_rng()"
   ],
   "metadata": {
    "collapsed": false,
    "pycharm": {
     "name": "#%%\n"
    }
   }
  },
  {
   "cell_type": "markdown",
   "source": [
    "The network on which the GEVD problem will be solved is created randomly,\n",
    "and has 10 nodes and 5 channels/sensors per node."
   ],
   "metadata": {
    "collapsed": false
   }
  },
  {
   "cell_type": "code",
   "execution_count": 2,
   "outputs": [],
   "source": [
    "# Number of nodes.\n",
    "nbnodes = 10\n",
    "# Number of channels per node.\n",
    "nbsensors_vec = 5 * np.ones(nbnodes)\n",
    "nbsensors_vec = nbsensors_vec.astype(int)\n",
    "# Number of channels in total.\n",
    "nbsensors = np.sum(nbsensors_vec)\n",
    "# Create adjacency matrix (hollow matrix) of a random graph.\n",
    "graph_adj = rng.integers(0, 1, size=(nbnodes, nbnodes), endpoint=True)\n",
    "graph_adj = np.triu(graph_adj, 1) + np.tril(graph_adj.T, -1)"
   ],
   "metadata": {
    "collapsed": false,
    "pycharm": {
     "name": "#%%\n"
    }
   }
  },
  {
   "cell_type": "markdown",
   "source": [
    "The adjacency matrix of the network is:"
   ],
   "metadata": {
    "collapsed": false,
    "pycharm": {
     "name": "#%% md\n"
    }
   }
  },
  {
   "cell_type": "code",
   "execution_count": 3,
   "outputs": [
    {
     "data": {
      "text/plain": "<Figure size 432x288 with 2 Axes>",
      "image/png": "[encoded data removed]"
     },
     "metadata": {},
     "output_type": "display_data"
    }
   ],
   "source": [
    "%matplotlib inline\n",
    "\n",
    "fig, ax = plt.subplots(1, 2)\n",
    "ax[0].imshow(graph_adj)\n",
    "ax[0].set_xticks(np.arange(0, nbnodes, 1))\n",
    "ax[0].set_yticks(np.arange(0, nbnodes, 1))\n",
    "ax[0].set_xticklabels(np.arange(1, nbnodes + 1, 1))\n",
    "ax[0].set_yticklabels(np.arange(1, nbnodes + 1, 1))\n",
    "ax[0].set_xticks(np.arange(-.5, nbnodes, 1), minor=True)\n",
    "ax[0].set_yticks(np.arange(-.5, nbnodes, 1), minor=True)\n",
    "ax[0].grid(which='minor', color='w', linestyle='-', linewidth=2)\n",
    "ax[0].set_title('Adjacency matrix')\n",
    "\n",
    "graph = nx.from_numpy_array(graph_adj)\n",
    "nx.draw_circular(graph)\n",
    "ax[1].set_title('Graph of the network')\n",
    "ax[1].axis('equal')\n",
    "\n",
    "plt.tight_layout()\n",
    "plt.show()\n"
   ],
   "metadata": {
    "collapsed": false,
    "pycharm": {
     "name": "#%%\n"
    }
   }
  },
  {
   "cell_type": "markdown",
   "source": [
    "We now create the multi-channel signals $\\mathbf{y}$ and $\\mathbf{v}$\n",
    "measured at the nodes, using the following mixture model:\n",
    "$\\mathbf{v}(t)=B\\cdot\\mathbf{s}(t)+\\mathbf{n}(t)$,\n",
    "$\\mathbf{y}(t)=A\\cdot\\mathbf{d}(t)+\\mathbf{v}(t).$\n",
    "\n",
    "Each node measures blocks of 10000 samples to estimate the correlation matrices."
   ],
   "metadata": {
    "collapsed": false,
    "pycharm": {
     "name": "#%% md\n"
    }
   }
  },
  {
   "cell_type": "code",
   "execution_count": 4,
   "outputs": [],
   "source": [
    "# Number of samples of the signals.\n",
    "nbsamples = 10000\n",
    "\n",
    "Y, V = gevd.create_data(nbsensors, nbsamples)"
   ],
   "metadata": {
    "collapsed": false,
    "pycharm": {
     "name": "#%%\n"
    }
   }
  },
  {
   "cell_type": "markdown",
   "source": [
    "The matrices `Y` and `V` contain in their columns time samples of $\\mathbf{y}$ and $\\mathbf{v}$ respectively:\n",
    "$Y = [\\mathbf{y}(1);\\dots;\\mathbf{y}(10000)]$ and $V = [\\mathbf{v}(1);\\dots;\\mathbf{v}(10000)]$.\n",
    "\n",
    "When solving the GEVD problem in the DASF setting, we need to use a centralized solver to\n",
    "solve the local problems created at each different node, where each node solves a parameterized\n",
    "version of the original problem. The solver we use is `gevd_solver` which solves:\n",
    "\n",
    "$\\text{max}_X\\; \\mathbb{E}[||X^T\\mathbf{y}_1(t)||^2]$\n",
    "$\\text{s.t. }  \\mathbb{E}[X^T\\mathbf{y}_2(t)\\mathbf{y}_2^T(t)X]=I.$\n",
    "\n",
    "Comparing it with problem $P$, we see that we have $\\mathbf{y}_1=\\mathbf{y}$ and\n",
    "$\\mathbf{y}_2=\\mathbf{v}$.\n",
    "\n",
    "The data of the problem are stored in the dictionary `data` (see documentation for\n",
    "more information)."
   ],
   "metadata": {
    "collapsed": false,
    "pycharm": {
     "name": "#%% md\n"
    }
   }
  },
  {
   "cell_type": "code",
   "execution_count": 5,
   "outputs": [],
   "source": [
    "Y_list = [Y, V]\n",
    "Gamma_list = []\n",
    "B_list = []\n",
    "Glob_Const_list = []\n",
    "\n",
    "data = {'Y_list': Y_list, 'B_list': B_list,\n",
    "        'Gamma_list': Gamma_list, 'Glob_Const_list': Glob_Const_list}\n"
   ],
   "metadata": {
    "collapsed": false,
    "pycharm": {
     "name": "#%%\n"
    }
   }
  },
  {
   "cell_type": "markdown",
   "source": [
    "In the distributed setting, each node $q$ will solve a parameterized version of the problem $P$\n",
    "given by:\n",
    "\n",
    "$\\text{max}_{\\widetilde{X}_q}\\; \\mathbb{E}[||\\widetilde{X}_q^TC_q^T\\mathbf{y}(t)||^2]$\n",
    "$\\text{s.t. } \\mathbb{E}[\\widetilde{X}_q^TC_q^T\\mathbf{v}(t)\\mathbf{v}^T(t)C_q\\widetilde{X}_q]=I.$\n",
    "\n",
    "Therefore, in `gevd_solver`, we take $\\mathbf{y}_1=C_q^T\\mathbf{y}$ and\n",
    "$\\mathbf{y}_2=C_q^T\\mathbf{v}$.\n",
    "\n",
    "The parameters of the problem are stored in the dictionary `prob_params` (see documentation for\n",
    "more information), where we choose the number of filters $Q$ (i.e., the number of columns of\n",
    "$X$) to be equal to 5:"
   ],
   "metadata": {
    "collapsed": false,
    "pycharm": {
     "name": "#%% md\n"
    }
   }
  },
  {
   "cell_type": "code",
   "execution_count": 6,
   "outputs": [],
   "source": [
    "# Number of filters of X.\n",
    "Q = 5\n",
    "\n",
    "prob_params = {'nbnodes': nbnodes, 'nbsensors_vec': nbsensors_vec,\n",
    "                   'nbsensors': nbsensors, 'Q': Q, 'nbsamples': nbsamples}"
   ],
   "metadata": {
    "collapsed": false,
    "pycharm": {
     "name": "#%%\n"
    }
   }
  },
  {
   "cell_type": "markdown",
   "source": [
    "The optimal filter $X^*$ is estimated using the centralized solver `gevd_solver` taking\n",
    "as input the data and problem parameters previously defined:"
   ],
   "metadata": {
    "collapsed": false,
    "pycharm": {
     "name": "#%% md\n"
    }
   }
  },
  {
   "cell_type": "code",
   "execution_count": 7,
   "outputs": [],
   "source": [
    "X_star = gevd.gevd_solver(prob_params, data)\n",
    "f_star = gevd.gevd_eval(X_star, data) # f(X_star)"
   ],
   "metadata": {
    "collapsed": false,
    "pycharm": {
     "name": "#%%\n"
    }
   }
  },
  {
   "cell_type": "markdown",
   "source": [
    "For the distributed context, we take the previously created network, and choose a randomly\n",
    "generated sequence as the updating path, i.e., the order in which the nodes take turns\n",
    "in solving their local problem.\n",
    "\n",
    "We also fix the number of iterations of the DASF algorithm to be equal to 100."
   ],
   "metadata": {
    "collapsed": false,
    "pycharm": {
     "name": "#%% md\n"
    }
   }
  },
  {
   "cell_type": "code",
   "execution_count": 8,
   "outputs": [],
   "source": [
    "prob_params['graph_adj'] = graph_adj\n",
    "\n",
    "update_path = rng.permutation(range(nbnodes))\n",
    "prob_params['update_path'] = update_path\n",
    "\n",
    "nbiter = 100\n",
    "conv = {'nbiter': nbiter}"
   ],
   "metadata": {
    "collapsed": false,
    "pycharm": {
     "name": "#%%\n"
    }
   }
  },
  {
   "cell_type": "markdown",
   "source": [
    "We also provide $X^*$ to compare the estimation we get from the DASF algorithm to the optimal\n",
    "value."
   ],
   "metadata": {
    "collapsed": false,
    "pycharm": {
     "name": "#%% md\n"
    }
   }
  },
  {
   "cell_type": "code",
   "execution_count": 9,
   "outputs": [],
   "source": [
    "prob_params['X_star'] = X_star\n",
    "prob_params['compare_opt'] = True"
   ],
   "metadata": {
    "collapsed": false,
    "pycharm": {
     "name": "#%%\n"
    }
   }
  },
  {
   "cell_type": "markdown",
   "source": [
    "Finally, the GEVD problem is solved in a distributed setting using the DASF framework:"
   ],
   "metadata": {
    "collapsed": false,
    "pycharm": {
     "name": "#%% md\n"
    }
   }
  },
  {
   "cell_type": "code",
   "execution_count": 10,
   "outputs": [],
   "source": [
    "X_est, norm_diff, norm_err, f_seq = dasf(prob_params, data, gevd.gevd_solver,\n",
    "                                             conv, gevd.gevd_select_sol, gevd.gevd_eval)"
   ],
   "metadata": {
    "collapsed": false,
    "pycharm": {
     "name": "#%%\n"
    }
   }
  },
  {
   "cell_type": "markdown",
   "source": [
    "Let us look at the plot of the normalized error $\\frac{||X^i-X^*||_F^2}{||X^*||_F^2}$:"
   ],
   "metadata": {
    "collapsed": false,
    "pycharm": {
     "name": "#%% md\n"
    }
   }
  },
  {
   "cell_type": "code",
   "execution_count": 11,
   "outputs": [
    {
     "data": {
      "text/plain": "<Figure size 432x288 with 1 Axes>",
      "image/png": "[encoded data removed]"
     },
     "metadata": {
      "needs_background": "light"
     },
     "output_type": "display_data"
    }
   ],
   "source": [
    "fig = plt.figure()\n",
    "ax = fig.add_subplot(1, 1, 1)\n",
    "ax.loglog(range(1, nbiter + 1), norm_err, color='b')\n",
    "ax.set_xlabel('Iterations')\n",
    "ax.set_ylabel('Normalized error')\n",
    "ax.grid(True, which='both')\n",
    "plt.show()"
   ],
   "metadata": {
    "collapsed": false,
    "pycharm": {
     "name": "#%%\n"
    }
   }
  }
 ],
 "metadata": {
  "kernelspec": {
   "display_name": "Python 3",
   "language": "python",
   "name": "python3"
  },
  "language_info": {
   "codemirror_mode": {
    "name": "ipython",
    "version": 2
   },
   "file_extension": ".py",
   "mimetype": "text/x-python",
   "name": "python",
   "nbconvert_exporter": "python",
   "pygments_lexer": "ipython2",
   "version": "2.7.6"
  }
 },
 "nbformat": 4,
 "nbformat_minor": 0
}